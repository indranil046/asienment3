{
 "cells": [
  {
   "cell_type": "code",
   "execution_count": 5,
   "id": "3384e07f-504d-45cd-bcb2-c794b7f24219",
   "metadata": {},
   "outputs": [
    {
     "name": "stdout",
     "output_type": "stream",
     "text": [
      "[1, 3, 5, 7, 9, 11, 13, 15, 17, 19, 21, 23, 25]\n"
     ]
    }
   ],
   "source": [
    "##Q1)\n",
    "the keyword is \"def\";\n",
    "def oddnumber():\n",
    "    onumber = []\n",
    "    for number in range(1, 26):\n",
    "        if number % 2 != 0:\n",
    "            onumber.append(number)\n",
    "    return onumber\n",
    "result = oddnumber()\n",
    "print(result)\n"
   ]
  },
  {
   "cell_type": "code",
   "execution_count": 8,
   "id": "506a9c60-d47f-4ee7-95e1-25ced7e45c59",
   "metadata": {},
   "outputs": [
    {
     "name": "stdout",
     "output_type": "stream",
     "text": [
      "15\n"
     ]
    }
   ],
   "source": [
    "###Q2)*args and **kwargs use to handle number of aurgument\n",
    "###exp for *args\n",
    "def addnum(*args):\n",
    "    total = 0\n",
    "    for num in args:\n",
    "        total =total + num\n",
    "    return total\n",
    "\n",
    "result = addnum(1, 2, 3, 4, 5)\n",
    "print(result)"
   ]
  },
  {
   "cell_type": "code",
   "execution_count": 10,
   "id": "178db027-9a66-4d84-acc1-d992c93bfd89",
   "metadata": {},
   "outputs": [
    {
     "name": "stdout",
     "output_type": "stream",
     "text": [
      "name: indra\n",
      "age: 27\n",
      "city: kolkata\n"
     ]
    }
   ],
   "source": [
    "###exp for *kwargs\n",
    "def data(**kwargs):\n",
    "    for key, value in kwargs.items():\n",
    "        print(f\"{key}: {value}\")\n",
    "\n",
    "data(name=\"indra\", age=27, city=\"kolkata\")"
   ]
  },
  {
   "cell_type": "code",
   "execution_count": 13,
   "id": "926065dd-3130-42c6-8556-470fa2957ceb",
   "metadata": {},
   "outputs": [
    {
     "name": "stdout",
     "output_type": "stream",
     "text": [
      "2\n",
      "4\n",
      "6\n",
      "8\n",
      "10\n"
     ]
    }
   ],
   "source": [
    "###Q3)In Python, an iterator is an object \n",
    "\"\"\"that allows you to traverse through elements in a \n",
    "sequence, such as a list or a string, one at a time. \n",
    "It provides a way to access elements sequentially \n",
    "without needing to know the \n",
    "underlying implementation details of the sequence.\n",
    "!!there 2 method of iterator\n",
    "iter()\n",
    "next()\"\"\"\n",
    "data = [2, 4, 6, 8, 10, 12, 14, 16, 18, 20]\n",
    "iter1 = iter(data)\n",
    "for i in range(5):\n",
    "    word = next(iter1)\n",
    "    print(word)\n"
   ]
  },
  {
   "cell_type": "code",
   "execution_count": 18,
   "id": "ce71b36a-31d9-4b3a-b48c-bcf33af6a0c5",
   "metadata": {},
   "outputs": [
    {
     "name": "stdout",
     "output_type": "stream",
     "text": [
      "0\n",
      "1\n",
      "1\n",
      "2\n",
      "3\n",
      "5\n",
      "8\n",
      "13\n",
      "21\n",
      "34\n"
     ]
    }
   ],
   "source": [
    "###Q4)\n",
    "\"\"\"In Python, a generator function \n",
    "is a special type of function \n",
    "that returns an iterator\"\"\"\n",
    "### yield is a key where generator function is end\n",
    "def fibona():\n",
    "    a, b = 0, 1\n",
    "    while True:\n",
    "        yield a\n",
    "        a, b = b, a + b\n",
    "fibnumber = fibona()\n",
    "for i in range(10):\n",
    "    fibnumber2= next(fibnumber)\n",
    "    print(fibnumber2)\n"
   ]
  },
  {
   "cell_type": "code",
   "execution_count": 6,
   "id": "a5d88f0f-4246-4c40-80ef-5855eb30ea3c",
   "metadata": {},
   "outputs": [
    {
     "name": "stdout",
     "output_type": "stream",
     "text": [
      "2\n",
      "3\n",
      "5\n",
      "7\n",
      "11\n",
      "13\n",
      "17\n",
      "19\n",
      "23\n",
      "29\n",
      "31\n",
      "37\n",
      "41\n",
      "43\n",
      "47\n",
      "53\n",
      "59\n",
      "61\n",
      "67\n",
      "71\n"
     ]
    }
   ],
   "source": [
    "###Q5)\n",
    "def generate_primes():\n",
    "    primes = []\n",
    "    num = 2\n",
    "    while num < 1000:\n",
    "        is_prime = True\n",
    "        for prime in primes:\n",
    "            if num % prime == 0:\n",
    "                is_prime = False\n",
    "                break\n",
    "        if is_prime:\n",
    "            primes.append(num)\n",
    "            yield num\n",
    "        num += 1\n",
    "\n",
    "prime_generator = generate_primes()\n",
    "for _ in range(20):\n",
    "    prime = next(prime_generator)\n",
    "    print(prime)\n"
   ]
  },
  {
   "cell_type": "code",
   "execution_count": 8,
   "id": "69e15bac-c635-4359-8cb5-abf777228337",
   "metadata": {},
   "outputs": [
    {
     "name": "stdout",
     "output_type": "stream",
     "text": [
      "0\n",
      "1\n",
      "1\n",
      "2\n",
      "3\n",
      "5\n",
      "8\n",
      "13\n",
      "21\n",
      "34\n"
     ]
    }
   ],
   "source": [
    "###Q6)\n",
    "a = 0\n",
    "b = 1\n",
    "c = 0\n",
    "\n",
    "while c < 10:\n",
    "    print(a)\n",
    "    d= a+b\n",
    "    a = b\n",
    "    b = d\n",
    "    c += 1\n"
   ]
  },
  {
   "cell_type": "code",
   "execution_count": 10,
   "id": "388fecf1-9854-49da-97ea-16e803a77acd",
   "metadata": {},
   "outputs": [
    {
     "name": "stdout",
     "output_type": "stream",
     "text": [
      "['p', 'w', 's', 'k', 'i', 'l', 'l', 's']\n"
     ]
    }
   ],
   "source": [
    "###Q7)\n",
    "data = 'pwskills'\n",
    "data2 = [char for char in data if char in 'pwskills']\n",
    "print(data2)\n"
   ]
  },
  {
   "cell_type": "code",
   "execution_count": 12,
   "id": "15678a77-298c-42de-b13d-830131134b7d",
   "metadata": {},
   "outputs": [
    {
     "name": "stdin",
     "output_type": "stream",
     "text": [
      "Enter a number:  455\n"
     ]
    },
    {
     "name": "stdout",
     "output_type": "stream",
     "text": [
      "The number is not a palindrome.\n"
     ]
    }
   ],
   "source": [
    "###Q8)\n",
    "number = int(input(\"Enter a number: \"))\n",
    "main = number\n",
    "secen = 0\n",
    "\n",
    "while number > 0:\n",
    "    last = number % 10\n",
    "    secen = (secen * 10) +last\n",
    "    number = number // 10\n",
    "\n",
    "if main == secen:\n",
    "    print(\"The number is a palindrome.\")\n",
    "else:\n",
    "    print(\"The number is not a palindrome.\")\n"
   ]
  },
  {
   "cell_type": "code",
   "execution_count": 13,
   "id": "f37503e3-7c59-4415-8ebc-f9ba1ee713d9",
   "metadata": {},
   "outputs": [
    {
     "name": "stdout",
     "output_type": "stream",
     "text": [
      "[1, 3, 5, 7, 9, 11, 13, 15, 17, 19, 21, 23, 25, 27, 29, 31, 33, 35, 37, 39, 41, 43, 45, 47, 49, 51, 53, 55, 57, 59, 61, 63, 65, 67, 69, 71, 73, 75, 77, 79, 81, 83, 85, 87, 89, 91, 93, 95, 97, 99]\n"
     ]
    }
   ],
   "source": [
    "###Q9)\n",
    "onum = [num for num in range(1, 101) if num % 2 != 0]\n",
    "print(onum)\n"
   ]
  },
  {
   "cell_type": "code",
   "execution_count": null,
   "id": "5fdd9436-cae1-4834-bdb7-841fec4c79ad",
   "metadata": {},
   "outputs": [],
   "source": []
  }
 ],
 "metadata": {
  "kernelspec": {
   "display_name": "Python 3 (ipykernel)",
   "language": "python",
   "name": "python3"
  },
  "language_info": {
   "codemirror_mode": {
    "name": "ipython",
    "version": 3
   },
   "file_extension": ".py",
   "mimetype": "text/x-python",
   "name": "python",
   "nbconvert_exporter": "python",
   "pygments_lexer": "ipython3",
   "version": "3.10.8"
  }
 },
 "nbformat": 4,
 "nbformat_minor": 5
}
